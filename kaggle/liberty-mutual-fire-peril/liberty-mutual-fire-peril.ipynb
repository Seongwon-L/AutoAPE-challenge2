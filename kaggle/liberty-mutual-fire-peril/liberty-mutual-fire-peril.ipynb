{
 "cells": [
  {
   "cell_type": "code",
   "execution_count": null,
   "metadata": {},
   "outputs": [],
   "source": [
    "import time\n",
    "import warnings\n",
    "\n",
    "import numpy as np\n",
    "import pandas as pd\n",
    "from lightgbm import LGBMRegressor"
   ]
  },
  {
   "cell_type": "markdown",
   "metadata": {},
   "source": [
    "# LGBM"
   ]
  },
  {
   "cell_type": "code",
   "execution_count": null,
   "metadata": {},
   "outputs": [],
   "source": [
    "# The EDA is highly based on the discussion of this post: https://www.kaggle.com/c/liberty-mutual-fire-peril/discussion/10194\n",
    "\n",
    "def read_data(folder):\n",
    "    train = pd.read_csv(f\"{folder}/train.csv.zip\")\n",
    "    test = pd.read_csv(f\"{folder}/test.csv.zip\")\n",
    "    sub = pd.read_csv(f\"{folder}/sampleSubmission.csv.zip\")\n",
    "    return train, test, sub\n",
    "\n",
    "def preprocess(train, test):\n",
    "    X_train = train.copy()\n",
    "    y_train = X_train[\"target\"].copy()\n",
    "    X_train.drop(\"target\", axis=1, inplace=True)\n",
    "    X_train = _kazanova_feature_selection(X_train)\n",
    "\n",
    "    X_test = test.copy()\n",
    "    X_test = _kazanova_feature_selection(test)\n",
    "    return X_train, y_train, X_test\n",
    "\n",
    "def _kazanova_feature_selection(df):\n",
    "    reduced = df.copy()\n",
    "    VARS = [f\"var{i}\" for i in range(1, 18)]\n",
    "    CRIMES = [\"crimeVar2\", \"crimeVar4\", \"crimeVar7\"]\n",
    "    GEODEM = [\"geodemVar1\"]\n",
    "    WEATHER_NUMS = [1, 4, 6, 41, 43, 77, 79, 113, 147, 149, 181, 199, 209, 227]\n",
    "    WEATHER = [f\"weatherVar{num}\" for num in WEATHER_NUMS]\n",
    "    USABLE_VARIABLES = VARS + CRIMES + GEODEM + WEATHER\n",
    "    return reduced[USABLE_VARIABLES]\n",
    "\n",
    "def preprocess_lgbm(X_train, X_test):\n",
    "    TO_INT_KEYS = [\"var7\", \"var8\", \"var9\"]\n",
    "    tmp_train = X_train.copy()\n",
    "    tmp_test = X_test.copy()\n",
    "    for TO_INT_KEY in TO_INT_KEYS:\n",
    "        to_int_train = pd.to_numeric(tmp_train[TO_INT_KEY], errors='coerce')\n",
    "        to_int_test = pd.to_numeric(tmp_test[TO_INT_KEY], errors='coerce')\n",
    "        tmp_train[TO_INT_KEY] = to_int_train\n",
    "        tmp_test[TO_INT_KEY] = to_int_test\n",
    "    return pd.get_dummies(tmp_train), pd.get_dummies(tmp_test)\n",
    "\n",
    "if __name__ == \"__main__\":\n",
    "    \n",
    "    #Defining the size of the grid\n",
    "    print(\"Starting loading data\")\n",
    "    train, test, submission = read_data(\"input\")\n",
    "    print(\"Finished loading data\")\n",
    "\n",
    "    X_train_p, y_train_p, X_test_p = preprocess(train, test)\n",
    "    X_train = X_train_p.fillna(0)\n",
    "    X_test = X_test_p.fillna(0)\n",
    "\n",
    "    X_train, X_test = preprocess_lgbm(X_train_p, X_test_p)\n",
    "    X_train.fillna(0, inplace=True)\n",
    "    y_train = y_train_p.copy()\n",
    "    X_test.fillna(0, inplace=True)\n"
   ]
  },
  {
   "cell_type": "code",
   "execution_count": null,
   "metadata": {},
   "outputs": [],
   "source": [
    "def make_sub(model, name):\n",
    "    model.fit(X_train, y_train)\n",
    "    preds = model.predict(X_test)\n",
    "    submission[\"target\"] = preds\n",
    "    submission.to_csv(name, index=False)\n",
    "\n",
    "# Best LGBM (Private Gini: 0.31866)\n",
    "params = {\n",
    "    'max_depth': 3,\n",
    "    'verbose': -1,\n",
    "    'random_state': 314,\n",
    "    'n_estimators': 500,\n",
    "    'min_child_samples': 922,\n",
    "    'learning_rate': 0.02490956806161569,\n",
    "    'num_leaves': 46,\n",
    "    'colsample_bytree': 0.15790102015824806,\n",
    "    'reg_alpha': 0.00010520322254335312,\n",
    "    'objective': 'regression',\n",
    "    'reg_lambda': 739.5182966148433,\n",
    "    'subsample': 0.9219752127591361\n",
    "}\n",
    "lgbm = LGBMRegressor(**params)\n",
    "name = f\"best_lgbm.csv\"\n",
    "make_sub(lgbm, name)"
   ]
  }
 ],
 "metadata": {
  "interpreter": {
   "hash": "a08591c38ea25fa2ec48c0dc32349ab6d452d3e2ddc25d0f83068c6731561b37"
  },
  "kernelspec": {
   "display_name": "Python 3.8.10 64-bit ('kaggle_env': venv)",
   "name": "python3"
  },
  "language_info": {
   "codemirror_mode": {
    "name": "ipython",
    "version": 3
   },
   "file_extension": ".py",
   "mimetype": "text/x-python",
   "name": "python",
   "nbconvert_exporter": "python",
   "pygments_lexer": "ipython3",
   "version": "3.8.10"
  },
  "orig_nbformat": 4
 },
 "nbformat": 4,
 "nbformat_minor": 2
}
